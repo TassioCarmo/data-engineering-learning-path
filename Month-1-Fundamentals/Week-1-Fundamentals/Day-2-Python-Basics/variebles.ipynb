{
  "nbformat": 4,
  "nbformat_minor": 0,
  "metadata": {
    "colab": {
      "provenance": []
    },
    "kernelspec": {
      "name": "python3",
      "display_name": "Python 3"
    },
    "language_info": {
      "name": "python"
    }
  },
  "cells": [
    {
      "cell_type": "markdown",
      "source": [
        "# **Simple Exercises**"
      ],
      "metadata": {
        "id": "vcTp9CV7_N6N"
      }
    },
    {
      "cell_type": "markdown",
      "source": [
        "**1.Basic Assignment**: Create a variable called `name` and assign your name to it. Then print the variable."
      ],
      "metadata": {
        "id": "z625ZitP_cIK"
      }
    },
    {
      "cell_type": "code",
      "execution_count": 1,
      "metadata": {
        "id": "iFSdjopC_JTh"
      },
      "outputs": [],
      "source": [
        "name = \"variable\"\n",
        "print(name)"
      ]
    },
    {
      "cell_type": "markdown",
      "source": [
        "**2. Multiple Assignment:** Create three variables `a`\n",
        ", `b`, and `c` and assign the values 1, 2, and 3 to them in a single line. Print the values of all three variables."
      ],
      "metadata": {
        "id": "zkJqrbXC_7xS"
      }
    },
    {
      "cell_type": "markdown",
      "source": [
        "The right-hand side (1, 2, 3) is interpreted as a tuple (even though you didn't write parentheses — it's a feature called \"tuple packing\")"
      ],
      "metadata": {
        "id": "5IMmsmM4Asmh"
      }
    },
    {
      "cell_type": "code",
      "source": [
        "a,b,c = 1,2,3\n",
        "print(a,b,c)\n"
      ],
      "metadata": {
        "colab": {
          "base_uri": "https://localhost:8080/"
        },
        "id": "u-Lk_D1IACQP",
        "outputId": "b13a1cc8-96da-448a-8671-dd00516c2ab0"
      },
      "execution_count": 2,
      "outputs": [
        {
          "output_type": "stream",
          "name": "stdout",
          "text": [
            "1 2 3\n"
          ]
        }
      ]
    },
    {
      "cell_type": "markdown",
      "source": [
        "3. **Value Swapping:** Create two variables `x` and `y`with values 10 and 20. Swap their values using a third variable `temp`. Print the values before and after swapping"
      ],
      "metadata": {
        "id": "n1Zs4frYAt8f"
      }
    },
    {
      "cell_type": "code",
      "source": [
        "x = 10\n",
        "y = 20\n",
        "temp = x\n",
        "x = y\n",
        "y = temp\n",
        "print(x,y)"
      ],
      "metadata": {
        "colab": {
          "base_uri": "https://localhost:8080/"
        },
        "id": "_SGI1EhUA7gQ",
        "outputId": "1e49393e-04d3-4ad6-e3ad-8168220845c3"
      },
      "execution_count": 3,
      "outputs": [
        {
          "output_type": "stream",
          "name": "stdout",
          "text": [
            "20 10\n"
          ]
        }
      ]
    },
    {
      "cell_type": "markdown",
      "source": [
        "# **Intermediate Exercises**"
      ],
      "metadata": {
        "id": "ME4q1VzeBSWj"
      }
    },
    {
      "cell_type": "markdown",
      "source": [
        "## Intermediate Exercises\n",
        "\n",
        "1. **Multiple Value Swap**: Create three variables `a`, `b`, and `c` with values 5, 10, and 15. Swap their values so that `a` gets `b`'s value, `b` gets `c`'s value, and `c` gets `a`'s value. Use Python's tuple unpacking feature."
      ],
      "metadata": {
        "id": "_TlshpKlBW9G"
      }
    },
    {
      "cell_type": "code",
      "source": [
        "a,b,c = 5,10,15\n",
        "a,b,c = b,c,a\n",
        "print(a,b,c)"
      ],
      "metadata": {
        "colab": {
          "base_uri": "https://localhost:8080/"
        },
        "id": "ETEk94gnBfbT",
        "outputId": "7918d36f-95c6-4150-beab-886f5b4912f9"
      },
      "execution_count": 4,
      "outputs": [
        {
          "output_type": "stream",
          "name": "stdout",
          "text": [
            "10 15 5\n"
          ]
        }
      ]
    },
    {
      "cell_type": "markdown",
      "source": [
        "2. **Augmented Assignment**: Create a variable `counter` with the value 0. Use augmented assignment operators to increase it by 5, then multiply it by 2, then divide it by 3, and finally subtract 1. Print the final value.\n"
      ],
      "metadata": {
        "id": "taQ1KqSoDMVs"
      }
    },
    {
      "cell_type": "code",
      "source": [
        "counter = 0\n",
        "counter += 5\n",
        "counter *= 2\n",
        "counter /= 3\n",
        "counter -= 1\n",
        "\n",
        "print(counter)"
      ],
      "metadata": {
        "colab": {
          "base_uri": "https://localhost:8080/"
        },
        "id": "fEF1HSciDSDu",
        "outputId": "a4bbce31-f70b-4719-bff1-64ac80776e84"
      },
      "execution_count": 5,
      "outputs": [
        {
          "output_type": "stream",
          "name": "stdout",
          "text": [
            "2.3333333333333335\n"
          ]
        }
      ]
    },
    {
      "cell_type": "markdown",
      "source": [
        "3. **Variable Naming and Conventions**: Create variables to store the following information according to Python naming conventions: a person's first name, last name, age, is_student status (boolean), and average_grade. Assign appropriate values and print them.\n"
      ],
      "metadata": {
        "id": "-NfihkzWEG9i"
      }
    },
    {
      "cell_type": "code",
      "source": [
        " first_name = \"John\"\n",
        " last_name = \"Smith\"\n",
        " age = 22\n",
        " is_student = True\n",
        " average_grade = 9\n",
        "print(\"First Name:\", first_name)\n",
        "print(\"Last Name:\", last_name)\n",
        "print(\"Age:\", age)\n",
        "print(\"Is Student:\", is_student)\n",
        "print(\"Average Grade:\", average_grade)"
      ],
      "metadata": {
        "colab": {
          "base_uri": "https://localhost:8080/"
        },
        "id": "yQa21HQ_EMqt",
        "outputId": "b66acd69-3f0a-4971-9259-75d2f639485d"
      },
      "execution_count": 8,
      "outputs": [
        {
          "output_type": "stream",
          "name": "stdout",
          "text": [
            "First Name: John\n",
            "Last Name: Smith\n",
            "Age: 22\n",
            "Is Student: True\n",
            "Average Grade: 9\n"
          ]
        }
      ]
    },
    {
      "cell_type": "markdown",
      "source": [
        "# **Applied Exercises (Real-World Problems)**"
      ],
      "metadata": {
        "id": "_txzStl4FSrW"
      }
    },
    {
      "cell_type": "markdown",
      "source": [
        "1. **Temperature Converter**: Write a program that assigns a temperature in Celsius to a variable. Then convert it to Fahrenheit using the formula `F = C * 9/5 + 32` and store the result in a different variable. Display both temperatures with appropriate labels."
      ],
      "metadata": {
        "id": "VPK9kM72FMly"
      }
    },
    {
      "cell_type": "code",
      "source": [
        "temp_celsius = float(input(\"Enter temperature in Celsius: \"))\n",
        "temp_fahrenheit  = temp_celsius * 9/5 +32\n",
        "\n",
        "print(\"Temperature in Celsius:\", temp_celsius, \"°C\")\n",
        "print(\"Temperature in Fahrenheit:\", temp_fahrenheit, \"°F\")"
      ],
      "metadata": {
        "colab": {
          "base_uri": "https://localhost:8080/"
        },
        "id": "mEHv-c8SFRmW",
        "outputId": "6634505a-f7e7-4d0e-ada6-37657e21adb2"
      },
      "execution_count": 13,
      "outputs": [
        {
          "output_type": "stream",
          "name": "stdout",
          "text": [
            "Enter temperature in Celsius: 27\n",
            "Temperature in Celsius: 27.0 °C\n",
            "Temperature in Fahrenheit: 80.6 °F\n"
          ]
        }
      ]
    },
    {
      "cell_type": "markdown",
      "source": [
        "2. **Simple Interest Calculator**: Create a program that calculates simple interest. Assign values to variables for principal amount, rate of interest (as a decimal), and time period (in years). Calculate the interest using the formula `interest = principal * rate * time` and store it in a new variable. Display the principal and the interest earned."
      ],
      "metadata": {
        "id": "sord9HUUGRJ_"
      }
    },
    {
      "cell_type": "code",
      "source": [
        "principal = float(input(\"Enter the principal amount: \"))\n",
        "rate = float(input(\"Enter the interest rate (as a decimal): \"))\n",
        "time = float(input(\"Enter the time period in years: \"))\n",
        "\n",
        "interest = principal * rate * time\n",
        "\n",
        "print(\"Principal Amount:\", principal)\n",
        "print(\"Simple Interest Earned:\", interest)\n"
      ],
      "metadata": {
        "colab": {
          "base_uri": "https://localhost:8080/"
        },
        "id": "EY1h6FBYGXFd",
        "outputId": "22b58a14-2620-4135-a689-119ae335ff4b"
      },
      "execution_count": 15,
      "outputs": [
        {
          "output_type": "stream",
          "name": "stdout",
          "text": [
            "Enter the principal amount: 1000\n",
            "Enter the interest rate (as a decimal): 4.2\n",
            "Enter the time period in years: 10\n",
            "Principal Amount: 1000.0\n",
            "Simple Interest Earned: 42000.0\n"
          ]
        }
      ]
    },
    {
      "cell_type": "markdown",
      "source": [
        "# Python Variable Assignment Exercises\n",
        "\n",
        "## Simple Exercises\n",
        "\n",
        "1. **Basic Assignment**: Create a variable called `name` and assign your name to it. Then print the variable.\n",
        "\n",
        "2. **Multiple Assignment**: Create three variables `a`, `b`, and `c` and assign the values 1, 2, and 3 to them in a single line. Print the values of all three variables.\n",
        "\n",
        "3. **Value Swapping**: Create two variables `x` and `y` with values 10 and 20. Swap their values using a third variable `temp`. Print the values before and after swapping.\n",
        "\n",
        "3. **Shopping Cart Total**: Create variables to represent items in a shopping cart with their prices. Calculate the subtotal, add a tax rate of 7.5%, and store the final total in a variable. Print an itemized receipt showing each item's price, the subtotal, tax amount, and total."
      ],
      "metadata": {
        "id": "WzSfAIOwH12O"
      }
    },
    {
      "cell_type": "code",
      "source": [
        "shopping_cart = {\n",
        "    \"Apple\": 0.75,\n",
        "    \"Bread\": 2.50,\n",
        "    \"Milk\": 3.00\n",
        "}\n",
        "\n",
        "subtotal = sum(shopping_cart.values())\n",
        "\n",
        "tax_rate = 0.075  # 7.5% tax rate\n",
        "tax = subtotal * tax_rate\n",
        "\n",
        "total = subtotal + tax\n",
        "\n",
        "print(\"Itemized Receipt:\")\n",
        "print(\"-----------------\")\n",
        "for item, price in shopping_cart.items():\n",
        "    print(f\"{item:10s}: ${price:6.2f}\")\n",
        "print(\"-----------------\")\n",
        "print(f\"Subtotal   : ${subtotal:6.2f}\")\n",
        "print(f\"Tax (7.5%) : ${tax:6.2f}\")\n",
        "print(f\"Total      : ${total:6.2f}\")"
      ],
      "metadata": {
        "colab": {
          "base_uri": "https://localhost:8080/"
        },
        "id": "_MjCxrAJH6gi",
        "outputId": "f9180a2b-701a-49ec-f7b0-053b407544f2"
      },
      "execution_count": 20,
      "outputs": [
        {
          "output_type": "stream",
          "name": "stdout",
          "text": [
            "Itemized Receipt:\n",
            "-----------------\n",
            "Apple     : $  0.75\n",
            "Bread     : $  2.50\n",
            "Milk      : $  3.00\n",
            "-----------------\n",
            "Subtotal   : $  6.25\n",
            "Tax (7.5%) : $  0.47\n",
            "Total      : $  6.72\n"
          ]
        }
      ]
    }
  ]
}