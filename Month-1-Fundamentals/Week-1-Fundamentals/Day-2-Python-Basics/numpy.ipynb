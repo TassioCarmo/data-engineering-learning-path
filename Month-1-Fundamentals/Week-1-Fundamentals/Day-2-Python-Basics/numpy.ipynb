{
  "cells": [
    {
      "cell_type": "markdown",
      "source": [
        "- NumPy provides Python with an extensive math library capable of performing numerical computations effectively and efficiently.\n",
        "- Even though Python lists are great on their own, NumPy has a number of key features that give it great advantages over Python lists. One such feature is speed. When performing operations on large arrays NumPy can often perform several orders of magnitude faster than Python lists. This speed comes from the nature of NumPy arrays being memory-efficient and from optimized algorithms used by NumPy for doing arithmetic, statistical, and linear algebra operations.\n",
        "- Another great feature of NumPy is that it has multidimensional array data structures that can represent vectors and matrices. Another great advantage of NumPy over Python lists is that NumPy has a large number of optimized built-in mathematical functions. These functions allow you to do a variety of complex mathematical computations very fast and with very little code (avoiding the use of complicated loops) making your programs more readable and easier to understand.\n",
        "- At the core of NumPy is the ndarray, where nd stands for n-dimensional.\n",
        "- An ndarray is a multidimensional array of elements all of the same type.\n",
        "- Unlike Python lists, all the elements of an ndarray must be of the same type. If you provide the np.array() function with a Python list that has both integers and strings, NumPy will interpret all elements as strings.\n",
        "- When we create an ndarray with both floats and integers, NumPy assigns its elements a float64 dtype. This is called upcasting. Since all the elements of an ndarray must be of the same type, in this case NumPy upcasts the integers in z to floats in order to avoid losing precision in numerical computations.\n",
        "We refer to 1D arrays as rank 1 arrays. In general N-Dimensional arrays have rank N. Therefore, we refer to a 2D array as a rank 2 array\n",
        "\n"
      ],
      "metadata": {
        "id": "-OARwk5ystsI"
      },
      "id": "-OARwk5ystsI"
    },
    {
      "cell_type": "markdown",
      "id": "a80cd16a",
      "metadata": {
        "id": "a80cd16a"
      },
      "source": [
        "# Numpy"
      ]
    },
    {
      "cell_type": "markdown",
      "id": "1dd46803",
      "metadata": {
        "id": "1dd46803"
      },
      "source": [
        "Read this about how data is arranged in numpy and using reshape: https://stackoverflow.com/questions/22053050/difference-between-numpy-array-shape-r-1-and-r"
      ]
    },
    {
      "cell_type": "code",
      "execution_count": null,
      "id": "1c71ba0e",
      "metadata": {
        "_kg_hide-output": true,
        "id": "1c71ba0e"
      },
      "outputs": [],
      "source": [
        "import numpy as np"
      ]
    },
    {
      "cell_type": "markdown",
      "id": "1d3d143e",
      "metadata": {
        "id": "1d3d143e"
      },
      "source": [
        "## Create ndarray"
      ]
    },
    {
      "cell_type": "code",
      "execution_count": null,
      "id": "7fd6f291",
      "metadata": {
        "_kg_hide-output": false,
        "id": "7fd6f291",
        "outputId": "50055b5d-c27a-4835-f690-640b892a6369"
      },
      "outputs": [
        {
          "name": "stdout",
          "output_type": "stream",
          "text": [
            "x =  [1 2 3 4 5]\n",
            "x has dimensions: (5,)\n",
            "The elements in x are of type: int64\n",
            "Y has dimensions: (4, 3)\n",
            "Y has a total of 12 elements\n",
            "Y is an object of type: <class 'numpy.ndarray'>\n",
            "The elements in Y are of type: int64\n"
          ]
        }
      ],
      "source": [
        "# Create a 1D ndarray that contains only integers\n",
        "x = np.array([1, 2, 3, 4, 5])\n",
        "print('x = ', x) # x = [1 2 3 4 5]\n",
        "print('x has dimensions:', x.shape) # x has dimensions: (5,)\n",
        "print('The elements in x are of type:', x.dtype) # The elements in x are of type: int64\n",
        "\n",
        "# Create a rank 2 ndarray that only contains integers\n",
        "Y = np.array([[1,2,3],[4,5,6],[7,8,9], [10,11,12]])\n",
        "print('Y has dimensions:', Y.shape) # Y has dimensions: (4, 3)\n",
        "print('Y has a total of', Y.size, 'elements') # Y has a total of 12 elements\n",
        "print('Y is an object of type:', type(Y)) # Y is an object of type: class 'numpy.ndarray'\n",
        "print('The elements in Y are of type:', Y.dtype) # The elements in Y are of type: int64"
      ]
    },
    {
      "cell_type": "markdown",
      "id": "d80581e0",
      "metadata": {
        "id": "d80581e0"
      },
      "source": [
        "## Create ndarray with dtype"
      ]
    },
    {
      "cell_type": "code",
      "execution_count": null,
      "id": "64af5756",
      "metadata": {
        "_kg_hide-output": false,
        "id": "64af5756"
      },
      "outputs": [],
      "source": [
        "# Specify the dtype when creating the ndarray\n",
        "x = np.array([1.5, 2.2, 3.7, 4.0, 5.9], dtype = np.int64)"
      ]
    },
    {
      "cell_type": "markdown",
      "id": "9ba77bc0",
      "metadata": {
        "id": "9ba77bc0"
      },
      "source": [
        "## Save and load"
      ]
    },
    {
      "cell_type": "code",
      "execution_count": null,
      "id": "bbba0841",
      "metadata": {
        "_kg_hide-output": false,
        "id": "bbba0841"
      },
      "outputs": [],
      "source": [
        "# Save the array into a file\n",
        "np.save('my_array', x)\n",
        "\n",
        "# Load the saved array from current directory\n",
        "y = np.load('my_array.npy')"
      ]
    },
    {
      "cell_type": "markdown",
      "id": "0e07651c",
      "metadata": {
        "id": "0e07651c"
      },
      "source": [
        "## Zeros"
      ]
    },
    {
      "cell_type": "code",
      "execution_count": null,
      "id": "1ea3b0d5",
      "metadata": {
        "_kg_hide-output": false,
        "id": "1ea3b0d5"
      },
      "outputs": [],
      "source": [
        "# Create ndarray using built-in functions\n",
        "# 3 x 4 ndarray full of zeros\n",
        "# np.zeros(shape)\n",
        "X = np.zeros((3,4))"
      ]
    },
    {
      "cell_type": "markdown",
      "id": "f62b9bf4",
      "metadata": {
        "id": "f62b9bf4"
      },
      "source": [
        "## Ones"
      ]
    },
    {
      "cell_type": "code",
      "execution_count": null,
      "id": "7a87a958",
      "metadata": {
        "_kg_hide-output": false,
        "id": "7a87a958"
      },
      "outputs": [],
      "source": [
        "# a 3 x 2 ndarray full of ones\n",
        "# np.ones(shape)\n",
        "X = np.ones((3,2))"
      ]
    },
    {
      "cell_type": "markdown",
      "id": "a4f84caf",
      "metadata": {
        "id": "a4f84caf"
      },
      "source": [
        "## Full"
      ]
    },
    {
      "cell_type": "code",
      "execution_count": null,
      "id": "970006b2",
      "metadata": {
        "_kg_hide-output": false,
        "id": "970006b2"
      },
      "outputs": [],
      "source": [
        "# 2 x 3 ndarray full of fives\n",
        "# np.full(shape, constant value)\n",
        "X = np.full((2,3), 5)"
      ]
    },
    {
      "cell_type": "markdown",
      "id": "d55c69e3",
      "metadata": {
        "id": "d55c69e3"
      },
      "source": [
        "## Identity Matrix"
      ]
    },
    {
      "cell_type": "code",
      "execution_count": null,
      "id": "274ac8a5",
      "metadata": {
        "_kg_hide-output": false,
        "id": "274ac8a5"
      },
      "outputs": [],
      "source": [
        "# Identity Matrix\n",
        "# Since all Identity Matrices are square, the np.eye() function only takes a single integer as an argument\n",
        "# 5 x 5 Identity matrix\n",
        "X = np.eye(5)"
      ]
    },
    {
      "cell_type": "markdown",
      "id": "be0e8b30",
      "metadata": {
        "id": "be0e8b30"
      },
      "source": [
        "## Diagonal Matrix"
      ]
    },
    {
      "cell_type": "code",
      "execution_count": null,
      "id": "6ec94b20",
      "metadata": {
        "_kg_hide-output": false,
        "id": "6ec94b20"
      },
      "outputs": [],
      "source": [
        "# Diagonal Matrix\n",
        "# 4 x 4 diagonal matrix that contains the numbers 10,20,30, and 50 on its main diagonal\n",
        "X = np.diag([10,20,30,50])"
      ]
    },
    {
      "cell_type": "markdown",
      "id": "a0f4978b",
      "metadata": {
        "id": "a0f4978b"
      },
      "source": [
        "## Arange"
      ]
    },
    {
      "cell_type": "code",
      "execution_count": null,
      "id": "dd9c9244",
      "metadata": {
        "_kg_hide-output": false,
        "id": "dd9c9244"
      },
      "outputs": [],
      "source": [
        "# Arange\n",
        "# rank 1 ndarray that has sequential integers from 0 to 9\n",
        "# x = [0 1 2 3 4 5 6 7 8 9]\n",
        "x = np.arange(10)\n",
        "\n",
        "# rank 1 ndarray that has sequential integers from 4 to 9\n",
        "# [start, stop)\n",
        "# x = [4 5 6 7 8 9]\n",
        "x = np.arange(4,10)\n",
        "\n",
        "# rank 1 ndarray that has evenly spaced integers from 1 to 13 in steps of 3.\n",
        "# np.arange(start,stop,step)\n",
        "# x = [ 1 4 7 10 13]\n",
        "x = np.arange(1,14,3)"
      ]
    },
    {
      "cell_type": "markdown",
      "id": "22b5e166",
      "metadata": {
        "id": "22b5e166"
      },
      "source": [
        "## Linspace"
      ]
    },
    {
      "cell_type": "code",
      "execution_count": null,
      "id": "bfbe735a",
      "metadata": {
        "_kg_hide-output": false,
        "id": "bfbe735a"
      },
      "outputs": [],
      "source": [
        "# Linspace\n",
        "# Even though the np.arange() function allows for non-integer steps,\n",
        "# such as 0.3, the output is usually inconsistent, due to the finite\n",
        "# floating point precision. For this reason, in the cases where\n",
        "# non-integer steps are required, it is usually better to use linspace()\n",
        "# becayse np.linspace() uses the number of elements we want in a\n",
        "# particular interval, instead of the step between values.\n",
        "# linspace returns N evenly spaced numbers over the closed interval [start, stop]\n",
        "# np.linspace(start, stop, N)\n",
        "# x = [ 0. 2.77777778 5.55555556 8.33333333 11.11111111 13.88888889 16.66666667 19.44444444 22.22222222 25. ]\n",
        "x = np.linspace(0,25,10)"
      ]
    },
    {
      "cell_type": "markdown",
      "id": "e178854b",
      "metadata": {
        "id": "e178854b"
      },
      "source": [
        "## Reshape"
      ]
    },
    {
      "cell_type": "code",
      "execution_count": null,
      "id": "f15f4bb2",
      "metadata": {
        "_kg_hide-output": false,
        "id": "f15f4bb2"
      },
      "outputs": [],
      "source": [
        "# Reshape\n",
        "# np.reshape(ndarray, new_shape)\n",
        "# converts the given ndarray into the specified new_shape\n",
        "x = np.arange(20)\n",
        "x = np.reshape(x, (4,5))\n",
        "# or\n",
        "x = np.arange(20).reshape(4, 5) # does the same thing as above\n",
        "# and the same thing with with linshape\n",
        "y = np.linspace(0,50,10, endpoint=False).reshape(5,2)\n",
        "# One great feature about NumPy, is that some functions can also be\n",
        "# applied as methods. This allows us to apply different functions in\n",
        "# sequence in just one line of code"
      ]
    },
    {
      "cell_type": "markdown",
      "id": "bd031664",
      "metadata": {
        "id": "bd031664"
      },
      "source": [
        "## Slicing"
      ]
    },
    {
      "cell_type": "code",
      "execution_count": null,
      "id": "b7a5070b",
      "metadata": {
        "_kg_hide-output": false,
        "id": "b7a5070b",
        "outputId": "2fc7daf0-5787-416b-e377-017ab6e5f92b"
      },
      "outputs": [
        {
          "data": {
            "text/plain": [
              "'\\n[[ 2]\\n [ 7]\\n [12]\\n [17]]\\n'"
            ]
          },
          "execution_count": 53,
          "metadata": {},
          "output_type": "execute_result"
        }
      ],
      "source": [
        "# Slicing\n",
        "# ndarray[start:end]\n",
        "# ndarray[start:]\n",
        "# ndarray[:end]\n",
        "# ndarray[<start>:<stop>:<step>]\n",
        "\n",
        "# In methods one and three, the end index is excluded [,)\n",
        "X = np.arange(20).reshape(4, 5)\n",
        "\n",
        "# select all the elements that are in the 2nd through 4th rows and in the 3rd to 5th columns\n",
        "Z = X[1:4,2:5]\n",
        "# or\n",
        "Z = X[1:,2:5]\n",
        "\n",
        "# elements = a_list[<start>:<stop>:<step>]\n",
        "# select all the elements in the 3rd row\n",
        "v = X[2,:] # v = [10 11 12 13 14]\n",
        "# select all the elements in the 3rd column\n",
        "q = X[:,2] # q = [ 2 7 12 17]\n",
        "# select all the elements in the 3rd column but return a rank 2 ndarray\n",
        "R = X[:,2:3]\n",
        "'''\n",
        "[[ 2]\n",
        " [ 7]\n",
        " [12]\n",
        " [17]]\n",
        "'''\n",
        "# Note: Slicing creates a view, not a copy\n",
        "# when we make assignments, such as: Z = X[1:4,2:5]\n",
        "# the slice of the original array X is not copied in the variable Z.\n",
        "# Rather, X and Z are now just two different names for the same ndarray.\n",
        "# We say that slicing only creates a view of the original array.\n",
        "# This means if we make changes to Z, X changes as well."
      ]
    },
    {
      "cell_type": "markdown",
      "id": "b96883b8",
      "metadata": {
        "id": "b96883b8"
      },
      "source": [
        "## Random"
      ]
    },
    {
      "cell_type": "code",
      "execution_count": null,
      "id": "2ec77fc5",
      "metadata": {
        "_kg_hide-output": false,
        "id": "2ec77fc5"
      },
      "outputs": [],
      "source": [
        "# Random\n",
        "# 3 x 3 ndarray with random floats in the half-open interval [0.0, 1.0).\n",
        "# np.random.random(shape)\n",
        "X = np.random.random((3,3))\n",
        "# np.random.randint(start, stop, size = shape)\n",
        "# [start, stop)\n",
        "X = np.random.randint(4,15,size=(3,2))\n",
        "\n",
        "# create ndarrays with random numbers that satisfy certain statistical properties\n",
        "# 1000 x 1000 ndarray of random floats drawn from normal (Gaussian)\n",
        "# distribution with a mean of zero and a standard deviation of 0.1.\n",
        "# np.random.normal(mean, standard deviation, size=shape)\n",
        "X = np.random.normal(0, 0.1, size=(1000,1000))"
      ]
    },
    {
      "cell_type": "markdown",
      "id": "b28c7362",
      "metadata": {
        "id": "b28c7362"
      },
      "source": [
        "## Mutability"
      ]
    },
    {
      "cell_type": "code",
      "execution_count": null,
      "id": "fffc9d25",
      "metadata": {
        "_kg_hide-output": false,
        "id": "fffc9d25"
      },
      "outputs": [],
      "source": [
        "# Mutability\n",
        "# Change ndarray\n",
        "x[3] = 20\n",
        "X[0,0] = 20"
      ]
    },
    {
      "cell_type": "markdown",
      "id": "72ba30e9",
      "metadata": {
        "id": "72ba30e9"
      },
      "source": [
        "## Delete"
      ]
    },
    {
      "cell_type": "code",
      "execution_count": null,
      "id": "d621cb20",
      "metadata": {
        "_kg_hide-output": false,
        "id": "d621cb20"
      },
      "outputs": [],
      "source": [
        "# Delete\n",
        "# np.delete(ndarray, elements, axis)\n",
        "x = np.array([1, 2, 3, 4, 5])\n",
        "# delete the first and fifth element of x\n",
        "x = np.delete(x, [0,4])\n",
        "\n",
        "Y = np.array([[1,2,3],[4,5,6],[7,8,9]])\n",
        "# delete the first row of Y\n",
        "w = np.delete(Y, 0, axis=0)\n",
        "# delete the first and last column of Y\n",
        "v = np.delete(Y, [0,2], axis=1)"
      ]
    },
    {
      "cell_type": "markdown",
      "id": "c45edb2e",
      "metadata": {
        "id": "c45edb2e"
      },
      "source": [
        "## Append"
      ]
    },
    {
      "cell_type": "code",
      "execution_count": null,
      "id": "54cb1ba3",
      "metadata": {
        "_kg_hide-output": false,
        "id": "54cb1ba3"
      },
      "outputs": [],
      "source": [
        "# Append\n",
        "# np.append(ndarray, elements, axis)\n",
        "# append the integer 6 to x\n",
        "x = np.append(x, 6)\n",
        "# append the integer 7 and 8 to x\n",
        "x = np.append(x, [7,8])\n",
        "# append a new row containing 7,8,9 to y\n",
        "v = np.append(Y, [[10,11,12]], axis=0)\n",
        "# append a new column containing 9 and 10 to y\n",
        "q = np.append(Y,[[13],[14],[15]], axis=1)"
      ]
    },
    {
      "cell_type": "markdown",
      "id": "a2733019",
      "metadata": {
        "id": "a2733019"
      },
      "source": [
        "## Insert"
      ]
    },
    {
      "cell_type": "code",
      "execution_count": null,
      "id": "1f2523df",
      "metadata": {
        "_kg_hide-output": false,
        "id": "1f2523df"
      },
      "outputs": [],
      "source": [
        "# Insert\n",
        "# np.insert(ndarray, index, elements, axis)\n",
        "# inserts the given list of elements to ndarray right before\n",
        "# the given index along the specified axis\n",
        "x = np.array([1, 2, 5, 6, 7])\n",
        "Y = np.array([[1,2,3],[7,8,9]])\n",
        "# insert the integer 3 and 4 between 2 and 5 in x.\n",
        "x = np.insert(x,2,[3,4])\n",
        "# insert a row between the first and last row of Y\n",
        "w = np.insert(Y,1,[4,5,6],axis=0)\n",
        "# insert a column full of 5s between the first and second column of Y\n",
        "v = np.insert(Y,1,5, axis=1)"
      ]
    },
    {
      "cell_type": "markdown",
      "id": "8131991a",
      "metadata": {
        "id": "8131991a"
      },
      "source": [
        "## Stacking"
      ]
    },
    {
      "cell_type": "code",
      "execution_count": null,
      "id": "402c6299",
      "metadata": {
        "_kg_hide-output": false,
        "id": "402c6299"
      },
      "outputs": [],
      "source": [
        "# Stacking\n",
        "# NumPy also allows us to stack ndarrays on top of each other,\n",
        "# or to stack them side by side. The stacking is done using either\n",
        "# the np.vstack() function for vertical stacking, or the np.hstack()\n",
        "# function for horizontal stacking. It is important to note that in\n",
        "# order to stack ndarrays, the shape of the ndarrays must match.\n",
        "x = np.array([1,2])\n",
        "Y = np.array([[3,4],[5,6]])\n",
        "z = np.vstack((x,Y)) # [[1,2], [3,4], [5,6]]\n",
        "w = np.hstack((Y,x.reshape(2,1))) # [[3,4,1], [5,6,2]]"
      ]
    },
    {
      "cell_type": "markdown",
      "id": "dd264b97",
      "metadata": {
        "id": "dd264b97"
      },
      "source": [
        "## Copy"
      ]
    },
    {
      "cell_type": "code",
      "execution_count": null,
      "id": "40a8ea15",
      "metadata": {
        "_kg_hide-output": false,
        "id": "40a8ea15"
      },
      "outputs": [],
      "source": [
        "# Copy\n",
        "# if we want to create a new ndarray that contains a copy of the\n",
        "# values in the slice we need to use the np.copy()\n",
        "# create a copy of the slice using the np.copy() function\n",
        "Z = np.copy(X[1:4,2:5])\n",
        "#  create a copy of the slice using the copy as a method\n",
        "W = X[1:4,2:5].copy()"
      ]
    },
    {
      "cell_type": "markdown",
      "id": "2db091b9",
      "metadata": {
        "id": "2db091b9"
      },
      "source": [
        "## Extract elements along the diagonal"
      ]
    },
    {
      "cell_type": "code",
      "execution_count": null,
      "id": "e7e6154a",
      "metadata": {
        "_kg_hide-output": false,
        "id": "e7e6154a"
      },
      "outputs": [],
      "source": [
        "# Extract elements along the diagonal\n",
        "d0 = np.diag(X)\n",
        "# As default is k=0, which refers to the main diagonal.\n",
        "# Values of k > 0 are used to select elements in diagonals above\n",
        "# the main diagonal, and values of k < 0 are used to select elements\n",
        "# in diagonals below the main diagonal.\n",
        "d1 = np.diag(X, k=1)\n",
        "d2 = np.diag(X, k=-1)"
      ]
    },
    {
      "cell_type": "markdown",
      "id": "9aa13ce8",
      "metadata": {
        "id": "9aa13ce8"
      },
      "source": [
        "## Find Unique Elements"
      ]
    },
    {
      "cell_type": "code",
      "execution_count": null,
      "id": "bb9a97a2",
      "metadata": {
        "id": "bb9a97a2"
      },
      "outputs": [],
      "source": [
        "# Find Unique Elements in ndarray\n",
        "u = np.unique(X)"
      ]
    },
    {
      "cell_type": "markdown",
      "id": "dd974e9f",
      "metadata": {
        "id": "dd974e9f"
      },
      "source": [
        "## Boolean Indexing"
      ]
    },
    {
      "cell_type": "code",
      "execution_count": null,
      "id": "195236ab",
      "metadata": {
        "id": "195236ab",
        "outputId": "e83b57ed-ecea-4624-e1bd-ca83a5026eb6"
      },
      "outputs": [
        {
          "name": "stdout",
          "output_type": "stream",
          "text": [
            "The elements in X that are greater than 10: [11 12 13 14 15 16 17 18 19 20 21 22 23 24]\n",
            "The elements in X that less than or equal to 7: [0 1 2 3 4 5 6 7]\n",
            "The elements in X that are between 10 and 17: [11 12 13 14 15 16]\n"
          ]
        }
      ],
      "source": [
        "# Boolean Indexing\n",
        "X = np.arange(25).reshape(5, 5)\n",
        "print('The elements in X that are greater than 10:', X[X > 10])\n",
        "print('The elements in X that less than or equal to 7:', X[X <= 7])\n",
        "print('The elements in X that are between 10 and 17:', X[(X > 10) & (X < 17)])\n",
        "\n",
        "# use Boolean indexing to assign the elements that\n",
        "# are between 10 and 17 the value of -1\n",
        "X[(X > 10) & (X < 17)] = -1"
      ]
    },
    {
      "cell_type": "markdown",
      "id": "53fd8e8c",
      "metadata": {
        "id": "53fd8e8c"
      },
      "source": [
        "## Set Operations"
      ]
    },
    {
      "cell_type": "code",
      "execution_count": null,
      "id": "13ac6bd9",
      "metadata": {
        "id": "13ac6bd9",
        "outputId": "e5cc82a6-f80b-44a5-8295-2636a2987017"
      },
      "outputs": [
        {
          "name": "stdout",
          "output_type": "stream",
          "text": [
            "The elements that are both in x and y: [2 4]\n",
            "The elements that are in x that are not in y: [1 3 5]\n",
            "All the elements of x and y: [1 2 3 4 5 6 7 8]\n"
          ]
        }
      ],
      "source": [
        "# Set Operations\n",
        "x = np.array([1,2,3,4,5])\n",
        "y = np.array([6,7,2,8,4])\n",
        "print('The elements that are both in x and y:', np.intersect1d(x,y))\n",
        "print('The elements that are in x that are not in y:', np.setdiff1d(x,y))\n",
        "print('All the elements of x and y:',np.union1d(x,y))"
      ]
    },
    {
      "cell_type": "markdown",
      "id": "7b20df5c",
      "metadata": {
        "id": "7b20df5c"
      },
      "source": [
        "## Sorting"
      ]
    },
    {
      "cell_type": "code",
      "execution_count": null,
      "id": "c3518faf",
      "metadata": {
        "id": "c3518faf"
      },
      "outputs": [],
      "source": [
        "# Sorting\n",
        "# When used as a function, it doesn't change the original ndarray\n",
        "s = np.sort(x)\n",
        "# When used as a method, the original array will be sorted\n",
        "x.sort()\n",
        "\n",
        "# sort x but only keep the unique elements in x\n",
        "s = np.sort(np.unique(x))\n",
        "\n",
        "# sort the columns of X\n",
        "s = np.sort(X, axis = 0)\n",
        "\n",
        "# sort the rows of X\n",
        "s = np.sort(X, axis = 1)"
      ]
    },
    {
      "cell_type": "markdown",
      "id": "a43a3d4a",
      "metadata": {
        "id": "a43a3d4a"
      },
      "source": [
        "## Math Functions"
      ]
    },
    {
      "cell_type": "code",
      "execution_count": null,
      "id": "b0434f88",
      "metadata": {
        "id": "b0434f88",
        "outputId": "a50fc770-9277-4ab2-8618-b0f4b6baa08e"
      },
      "outputs": [
        {
          "data": {
            "text/plain": [
              "array([ 1,  4,  9, 16])"
            ]
          },
          "execution_count": 66,
          "metadata": {},
          "output_type": "execute_result"
        }
      ],
      "source": [
        "# NumPy allows element-wise operations on ndarrays as well as\n",
        "# matrix operations. In order to do element-wise operations,\n",
        "# NumPy sometimes uses something called Broadcasting.\n",
        "# Broadcasting is the term used to describe how NumPy handles\n",
        "# element-wise arithmetic operations with ndarrays of different shapes.\n",
        "# For example, broadcasting is used implicitly when doing arithmetic\n",
        "# operations between scalars and ndarrays.\n",
        "x = np.array([1,2,3,4])\n",
        "y = np.array([5.5,6.5,7.5,8.5])\n",
        "np.add(x,y)\n",
        "np.subtract(x,y)\n",
        "np.multiply(x,y)\n",
        "np.divide(x,y)\n",
        "\n",
        "# in order to do these operations the shapes of the ndarrays\n",
        "# being operated on, must have the same shape or be broadcastable\n",
        "X = np.array([1,2,3,4]).reshape(2,2)\n",
        "Y = np.array([5.5,6.5,7.5,8.5]).reshape(2,2)\n",
        "np.add(X,Y)\n",
        "np.subtract(X,Y)\n",
        "np.multiply(X,Y)\n",
        "np.divide(X,Y)\n",
        "\n",
        "# apply mathematical functions to all elements of an ndarray at once\n",
        "np.exp(x)\n",
        "np.sqrt(x)\n",
        "np.power(x,2)"
      ]
    },
    {
      "cell_type": "markdown",
      "id": "f46e45ed",
      "metadata": {
        "id": "f46e45ed"
      },
      "source": [
        "## Statistical Functions"
      ]
    },
    {
      "cell_type": "code",
      "execution_count": null,
      "id": "ef09ed95",
      "metadata": {
        "id": "ef09ed95",
        "outputId": "69b0ab6c-3536-4366-e0ad-3ebaac3c0658"
      },
      "outputs": [
        {
          "name": "stdout",
          "output_type": "stream",
          "text": [
            "Average of all elements in X: 2.5\n",
            "Average of all elements in the columns of X: [2. 3.]\n",
            "Average of all elements in the rows of X: [1.5 3.5]\n",
            "\n",
            "Sum of all elements in X: 10\n",
            "Standard Deviation of all elements in X: 1.118033988749895\n",
            "Median of all elements in X: 2.5\n",
            "Maximum value of all elements in X: 4\n",
            "Minimum value of all elements in X: 1\n"
          ]
        }
      ],
      "source": [
        "# Statistical Functions\n",
        "print('Average of all elements in X:', X.mean())\n",
        "print('Average of all elements in the columns of X:', X.mean(axis=0))\n",
        "print('Average of all elements in the rows of X:', X.mean(axis=1))\n",
        "print()\n",
        "print('Sum of all elements in X:', X.sum())\n",
        "print('Standard Deviation of all elements in X:', X.std())\n",
        "print('Median of all elements in X:', np.median(X))\n",
        "print('Maximum value of all elements in X:', X.max())\n",
        "print('Minimum value of all elements in X:', X.min())"
      ]
    },
    {
      "cell_type": "markdown",
      "id": "291de7e2",
      "metadata": {
        "id": "291de7e2"
      },
      "source": [
        "## Broadcasting"
      ]
    },
    {
      "cell_type": "code",
      "execution_count": null,
      "id": "7975d454",
      "metadata": {
        "id": "7975d454",
        "outputId": "90e28b4f-3891-4c53-8887-38d0d449a908"
      },
      "outputs": [
        {
          "name": "stdout",
          "output_type": "stream",
          "text": [
            "[[ 4  8]\n",
            " [12 16]]\n",
            "[[5 6]\n",
            " [7 8]]\n",
            "[[3 2]\n",
            " [1 0]]\n",
            "[[4.         2.        ]\n",
            " [1.33333333 1.        ]]\n",
            "[[ 2  4  6]\n",
            " [ 5  7  9]\n",
            " [ 8 10 12]]\n",
            "[[ 2  3  4]\n",
            " [ 6  7  8]\n",
            " [10 11 12]]\n"
          ]
        }
      ],
      "source": [
        "# Broadcasting\n",
        "# NumPy is working behind the scenes to broadcast 3 along the ndarray\n",
        "# so that they have the same shape. This allows us to add 3 to each\n",
        "# element of X with just one line of code.\n",
        "print(4*X)\n",
        "print(4+X)\n",
        "print(4-X)\n",
        "print(4/X)\n",
        "# NumPy is able to add 1 x 3 and 3 x 1 ndarrays to 3 x 3 ndarrays\n",
        "# by broadcasting the smaller ndarrays along the big ndarray so that\n",
        "# they have compatible shapes. In general, NumPy can do this provided\n",
        "# that the smaller ndarray can be expanded to the shape of the larger\n",
        "# ndarray in such a way that the resulting broadcast is unambiguous.\n",
        "x = np.array([1,2,3])\n",
        "Y = np.array([[1,2,3],[4,5,6],[7,8,9]])\n",
        "Z = np.array([1,2,3]).reshape(3,1)\n",
        "print(x + Y)\n",
        "print(Z + Y)"
      ]
    }
  ],
  "metadata": {
    "kernelspec": {
      "display_name": "Python 3",
      "language": "python",
      "name": "python3"
    },
    "language_info": {
      "codemirror_mode": {
        "name": "ipython",
        "version": 3
      },
      "file_extension": ".py",
      "mimetype": "text/x-python",
      "name": "python",
      "nbconvert_exporter": "python",
      "pygments_lexer": "ipython3",
      "version": "3.6.6"
    },
    "toc": {
      "base_numbering": 1,
      "nav_menu": {},
      "number_sections": true,
      "sideBar": true,
      "skip_h1_title": false,
      "title_cell": "Table of Contents",
      "title_sidebar": "Contents",
      "toc_cell": false,
      "toc_position": {
        "height": "calc(100% - 180px)",
        "left": "10px",
        "top": "150px",
        "width": "230px"
      },
      "toc_section_display": true,
      "toc_window_display": true
    },
    "colab": {
      "provenance": []
    }
  },
  "nbformat": 4,
  "nbformat_minor": 5
}