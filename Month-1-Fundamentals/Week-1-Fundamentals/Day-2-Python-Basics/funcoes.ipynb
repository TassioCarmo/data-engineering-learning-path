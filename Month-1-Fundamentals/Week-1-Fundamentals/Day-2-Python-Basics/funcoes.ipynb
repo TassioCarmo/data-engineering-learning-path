{
  "nbformat": 4,
  "nbformat_minor": 0,
  "metadata": {
    "colab": {
      "provenance": []
    },
    "kernelspec": {
      "name": "python3",
      "display_name": "Python 3"
    },
    "language_info": {
      "name": "python"
    }
  },
  "cells": [
    {
      "cell_type": "markdown",
      "source": [
        "# **Python Function Call Exercises**"
      ],
      "metadata": {
        "id": "xhByiMQVKDXU"
      }
    },
    {
      "cell_type": "markdown",
      "source": [
        "## **Simple Exercises**"
      ],
      "metadata": {
        "id": "7tRj545SKGf-"
      }
    },
    {
      "cell_type": "markdown",
      "source": [
        "1. **Basic Function Call**: Create a function called `greet` that prints \"Hello, World!\" when called. Then call the function to see the message.\n"
      ],
      "metadata": {
        "id": "AarRPZbLKKTS"
      }
    },
    {
      "cell_type": "code",
      "execution_count": 2,
      "metadata": {
        "colab": {
          "base_uri": "https://localhost:8080/"
        },
        "id": "JFyEJxtIJYtG",
        "outputId": "34edf88c-0f8f-4629-93d4-5bf91ec66faf"
      },
      "outputs": [
        {
          "output_type": "stream",
          "name": "stdout",
          "text": [
            "Hello, World!\n"
          ]
        }
      ],
      "source": [
        "def greet():\n",
        "  print(\"Hello, World!\")\n",
        "greet()"
      ]
    },
    {
      "cell_type": "markdown",
      "source": [
        "2. **Function with Parameters**: Write a function called `add_numbers` that takes two parameters and returns their sum. Call the function with different pairs of numbers and print the results.\n",
        "\n"
      ],
      "metadata": {
        "id": "L71KVCBeMDjE"
      }
    },
    {
      "cell_type": "code",
      "source": [
        "def add_numbers(a,b):\n",
        "  return sum([a,b])\n",
        "print(add_numbers(5,10))"
      ],
      "metadata": {
        "colab": {
          "base_uri": "https://localhost:8080/"
        },
        "id": "z7kAjAnjMc1y",
        "outputId": "4d02870e-715f-4933-a54b-3c911fdfcf08"
      },
      "execution_count": 6,
      "outputs": [
        {
          "output_type": "stream",
          "name": "stdout",
          "text": [
            "15\n"
          ]
        }
      ]
    },
    {
      "cell_type": "markdown",
      "source": [
        "3. **Default Parameters**: Create a function called `introduce` that takes a name and a title with a default value of \"Developer\". Call the function with just a name and then with both a name and a different title.\n"
      ],
      "metadata": {
        "id": "cVU1GZCJMKmJ"
      }
    },
    {
      "cell_type": "code",
      "source": [
        "def introduce(name,title=\"Developer\"):\n",
        "    print(f\"This is {name}, the {title}.\")\n",
        "introduce(\"John\")\n",
        "introduce(\"John\",\"Investor\")\n"
      ],
      "metadata": {
        "colab": {
          "base_uri": "https://localhost:8080/"
        },
        "id": "jRl8HwOBNiM9",
        "outputId": "9f57e091-6170-49ec-b94b-106775844015"
      },
      "execution_count": 8,
      "outputs": [
        {
          "output_type": "stream",
          "name": "stdout",
          "text": [
            "This is John, the Developer.\n",
            "This is John, the Investor.\n"
          ]
        }
      ]
    },
    {
      "cell_type": "markdown",
      "source": [
        "## Intermediate Exercises\n"
      ],
      "metadata": {
        "id": "spLlevRhPNxC"
      }
    },
    {
      "cell_type": "markdown",
      "source": [
        "1. **Keyword Arguments**: Write a function called `create_profile` that accepts parameters for name, age, city, and occupation. Call the function using keyword arguments in different orders, and verify that the function works correctly.\n"
      ],
      "metadata": {
        "id": "evo8XxQiPVto"
      }
    },
    {
      "cell_type": "code",
      "source": [
        "def create_profile(name, age, city, occupation):\n",
        "    print(f\"{name} is a {age}-year-old {occupation} living in {city}.\")\n",
        "create_profile(name=\"Alice\", age=30, city=\"New York\", occupation=\"Designer\")\n",
        "create_profile(city=\"Tokyo\", occupation=\"Engineer\", name=\"Kenji\", age=28)\n",
        "create_profile(occupation=\"Artist\", name=\"Lina\", city=\"Paris\", age=35)"
      ],
      "metadata": {
        "colab": {
          "base_uri": "https://localhost:8080/"
        },
        "id": "avdMuYptPfV1",
        "outputId": "eb99cc12-0268-43b6-bf93-74c658afeaf7"
      },
      "execution_count": 11,
      "outputs": [
        {
          "output_type": "stream",
          "name": "stdout",
          "text": [
            "Alice is a 30-year-old Designer living in New York.\n",
            "Kenji is a 28-year-old Engineer living in Tokyo.\n",
            "Lina is a 35-year-old Artist living in Paris.\n"
          ]
        }
      ]
    },
    {
      "cell_type": "markdown",
      "source": [
        "2. **Variable Arguments**: Create a function called `calculate_average` that accepts any number of numeric values using `*args` and returns their average. Call the function with different numbers of arguments (3 numbers, 5 numbers, etc.).\n"
      ],
      "metadata": {
        "id": "JifJdbj5QlvU"
      }
    },
    {
      "cell_type": "code",
      "source": [
        "from statistics import mean\n",
        "\n",
        "def calculate_average(*args):\n",
        "    if not args:\n",
        "        return \"No values provided\"\n",
        "    return mean(args)\n",
        "\n",
        "print(calculate_average(10, 20, 30))\n",
        "print(calculate_average(5, 10, 15, 20, 25))\n",
        "print(calculate_average(100))\n",
        "print(calculate_average())"
      ],
      "metadata": {
        "colab": {
          "base_uri": "https://localhost:8080/"
        },
        "id": "quJ19mfJQyYG",
        "outputId": "634618af-dcdf-448a-9934-acabce38e314"
      },
      "execution_count": 21,
      "outputs": [
        {
          "output_type": "stream",
          "name": "stdout",
          "text": [
            "20\n",
            "15\n",
            "100\n",
            "No values provided\n"
          ]
        }
      ]
    },
    {
      "cell_type": "markdown",
      "source": [
        "3. **Nested Function Calls**: Write two functions: `square` that returns the square of a number, and `cube` that returns the cube of a number. Call the `cube` function using the result of the `square` function as its input.\n",
        "\n"
      ],
      "metadata": {
        "id": "GqakGglhSZCK"
      }
    },
    {
      "cell_type": "code",
      "source": [
        "def square(x):\n",
        "    return x ** 2\n",
        "\n",
        "def cube(x):\n",
        "    return x ** 3\n",
        "\n",
        "result = cube(square(2))\n",
        "\n",
        "print(\"Result:\", result)"
      ],
      "metadata": {
        "colab": {
          "base_uri": "https://localhost:8080/"
        },
        "id": "BmsvAmIWSpw_",
        "outputId": "61b6d9f8-5cb7-47ec-ed6d-06d50631f625"
      },
      "execution_count": 24,
      "outputs": [
        {
          "output_type": "stream",
          "name": "stdout",
          "text": [
            "Result: 64\n"
          ]
        }
      ]
    },
    {
      "cell_type": "markdown",
      "source": [
        "## Applied Exercises (Real-World Problems)\n"
      ],
      "metadata": {
        "id": "cIRm3VmdUBts"
      }
    },
    {
      "cell_type": "markdown",
      "source": [
        "1. **Simple Calculator**: Create a program with functions for addition, subtraction, multiplication, and division. Ask the user which operation they want to perform and which numbers to use, then call the appropriate function and display the result.\n"
      ],
      "metadata": {
        "id": "sJiUW5sjUFlU"
      }
    },
    {
      "cell_type": "code",
      "source": [
        "def calculator(operation, a, b):\n",
        "    operation = operation.lower()\n",
        "    if operation == \"addition\":\n",
        "        print(\"Result:\", add(a, b))\n",
        "    elif operation == \"subtraction\":\n",
        "        print(\"Result:\", subtract(a, b))\n",
        "    elif operation == \"multiplication\":\n",
        "        print(\"Result:\", multiply(a, b))\n",
        "    elif operation == \"division\":\n",
        "        result = divide(a, b)\n",
        "        if result is not None:\n",
        "            print(\"Result:\", result)\n",
        "    else:\n",
        "        print(\"Wrong operation. Please choose addition, subtraction, multiplication, or division.\")\n",
        "\n",
        "def add(a, b):\n",
        "    return a + b\n",
        "\n",
        "def subtract(a, b):\n",
        "    return a - b\n",
        "\n",
        "def multiply(a, b):\n",
        "    return a * b\n",
        "\n",
        "def divide(a, b):\n",
        "    if b == 0:\n",
        "        print(\"Error: Division by zero!\")\n",
        "        return None\n",
        "    return a / b\n",
        "\n",
        "operation = input(\"Enter an operation (addition, subtraction, multiplication, division): \")\n",
        "a = float(input(\"Enter the first number: \"))\n",
        "b = float(input(\"Enter the second number: \"))\n",
        "\n",
        "calculator(operation, a, b)\n"
      ],
      "metadata": {
        "colab": {
          "base_uri": "https://localhost:8080/"
        },
        "id": "IGjzPySLUIXE",
        "outputId": "ecc4fb29-bd15-4bd3-84f9-4fd0484c5be0"
      },
      "execution_count": 32,
      "outputs": [
        {
          "output_type": "stream",
          "name": "stdout",
          "text": [
            "Enter an operation (addition, subtraction, multiplication, division): addition\n",
            "Enter the first number: 10\n",
            "Enter the second number: 5\n",
            "Result: 15.0\n"
          ]
        }
      ]
    },
    {
      "cell_type": "markdown",
      "source": [
        "\n",
        "2. **Text Analyzer**: Write a program that defines functions to count words, count characters, and [find the most common word](https://) in a text. Allow the user to input a text and call these functions to analyze it, displaying the results in a formatted output."
      ],
      "metadata": {
        "id": "nadgNn5oYR0R"
      }
    },
    {
      "cell_type": "code",
      "source": [
        "from collections import Counter\n",
        "import string\n",
        "\n",
        "def count(operation, text):\n",
        "    operation = operation.lower()\n",
        "    if operation == \"words\":\n",
        "        print(\"Result:\", count_words(text))\n",
        "    elif operation == \"characters\":\n",
        "        print(\"Result:\", count_characters(text))\n",
        "    elif operation == \"find\":\n",
        "        print(\"Result:\", find(text))\n",
        "    else:\n",
        "        print(\"Wrong operation. Please choose words, characters or find.\")\n",
        "\n",
        "def count_words(text):\n",
        "    word_counter = len(text.split())\n",
        "    return word_counter\n",
        "\n",
        "def count_characters(text):\n",
        "    character_counter =  len(text.replace(\" \", \"\"))\n",
        "    return  character_counter\n",
        "\n",
        "def find(text):\n",
        "  common_word_counter = Counter(text.lower().translate(str.maketrans('', '', string.punctuation)).split()).most_common(1)\n",
        "\n",
        "  return common_word_counter\n",
        "\n",
        "operation = input(\"Enter an operation (words for  count words,characters for count characters or find for  find the most common word ): \")\n",
        "text = input(\"Enter the text: \")\n",
        "count(operation, text)\n"
      ],
      "metadata": {
        "colab": {
          "base_uri": "https://localhost:8080/"
        },
        "id": "s0Q6qRKBdunI",
        "outputId": "8baa3782-8b72-4098-ae74-c546b5212ff5"
      },
      "execution_count": 39,
      "outputs": [
        {
          "output_type": "stream",
          "name": "stdout",
          "text": [
            "Enter an operation (words for  count words,characters for count characters or find for  find the most common word ): find\n",
            "Enter the text: Hello, hello! How are you? Are you okay? Hello!!\"\n",
            "Result: [('hello', 3)]\n"
          ]
        }
      ]
    },
    {
      "cell_type": "markdown",
      "source": [
        "3. **Banking System**: Create a simple banking system with functions for depositing, withdrawing, and checking balance. Store the balance in a variable and call the appropriate functions based on user input, ensuring that the balance is updated correctly after each transaction."
      ],
      "metadata": {
        "id": "qM6ea1GOesHG"
      }
    },
    {
      "cell_type": "code",
      "source": [
        "\n",
        "balance = 0.0\n",
        "\n",
        "def deposit(amount):\n",
        "    global balance\n",
        "    if amount <= 0:\n",
        "        print(\"O valor do depósito deve ser positivo.\")\n",
        "    else:\n",
        "        balance += amount\n",
        "        return balance\n",
        "\n",
        "def withdraw(amount):\n",
        "    global balance\n",
        "    if amount <= 0:\n",
        "        print(\"O valor do saque deve ser positivo.\")\n",
        "    elif amount > balance:\n",
        "        print(\"Saldo insuficiente.\")\n",
        "    else:\n",
        "        balance -= amount\n",
        "        return balance\n",
        "\n",
        "def check():\n",
        "    print(f\"Saldo atual: {balance:.2f}\")\n",
        "\n",
        "def count(operation, amount=None):\n",
        "    operation = operation.lower()\n",
        "    if operation == \"deposit\":\n",
        "        new_balance = deposit(amount)\n",
        "        if new_balance is not None:\n",
        "            print(f\"Depositado: {amount:.2f}. Saldo: {new_balance:.2f}\")\n",
        "    elif operation == \"withdraw\":\n",
        "        new_balance = withdraw(amount)\n",
        "        if new_balance is not None:\n",
        "            print(f\"Sacado: {amount:.2f}. Saldo: {new_balance:.2f}\")\n",
        "    elif operation == \"check\":\n",
        "        check()\n",
        "    else:\n",
        "        print(\"Operação inválida. Use deposit, withdraw, check ou exit.\")\n",
        "\n",
        "def main():\n",
        "    while True:\n",
        "        op = input(\"Operação (deposit, withdraw, check, exit): \").strip().lower()\n",
        "        if op == \"exit\":\n",
        "            print(\"Obrigado por usar o sistema bancário.\")\n",
        "            break\n",
        "        if op in (\"deposit\", \"withdraw\"):\n",
        "            try:\n",
        "                amt = float(input(\"Digite o valor: \"))\n",
        "            except ValueError:\n",
        "                print(\"Valor inválido. Digite um número.\")\n",
        "                continue\n",
        "            count(op, amt)\n",
        "        else:\n",
        "            count(op)\n",
        "\n",
        "if __name__ == \"__main__\":\n",
        "    main()\n",
        "\n"
      ],
      "metadata": {
        "colab": {
          "base_uri": "https://localhost:8080/"
        },
        "id": "f5tOQsAPephm",
        "outputId": "3f3d914a-044e-4619-8c2d-4c6eec9ef88c"
      },
      "execution_count": 44,
      "outputs": [
        {
          "output_type": "stream",
          "name": "stdout",
          "text": [
            "Operação (deposit, withdraw, check, exit): deposit\n",
            "Digite o valor: 100\n",
            "Depositado: 100.00. Saldo: 100.00\n",
            "Operação (deposit, withdraw, check, exit): check\n",
            "Saldo atual: 100.00\n",
            "Operação (deposit, withdraw, check, exit): withdra\n",
            "Operação inválida. Use deposit, withdraw, check ou exit.\n",
            "Operação (deposit, withdraw, check, exit): withdraw\n",
            "Digite o valor: 50\n",
            "Sacado: 50.00. Saldo: 50.00\n",
            "Operação (deposit, withdraw, check, exit): check\n",
            "Saldo atual: 50.00\n",
            "Operação (deposit, withdraw, check, exit): exit\n",
            "Obrigado por usar o sistema bancário.\n"
          ]
        }
      ]
    }
  ]
}