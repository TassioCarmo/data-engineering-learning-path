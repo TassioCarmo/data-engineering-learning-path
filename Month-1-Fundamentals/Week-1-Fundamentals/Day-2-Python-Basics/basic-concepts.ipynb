{
  "nbformat": 4,
  "nbformat_minor": 0,
  "metadata": {
    "colab": {
      "provenance": [],
      "toc_visible": true
    },
    "kernelspec": {
      "name": "python3",
      "display_name": "Python 3"
    },
    "language_info": {
      "name": "python"
    }
  },
  "cells": [
    {
      "cell_type": "markdown",
      "source": [
        "# **Python**\n"
      ],
      "metadata": {
        "id": "zc5boGchOB9f"
      }
    },
    {
      "cell_type": "markdown",
      "source": [
        "## **Variable assignment**:\n",
        "Here we create a variable called `spam_amount` and assign it the value of `0` using `=`, which is called the assignment operator.\n",
        "\n",
        "**Note**: If you've programmed in certain other languages (like Java or C++), you might be noticing some things Python doesn't require us to do here:\n",
        "\n",
        "- we don't need to \"declare\" a variable before assigning to it\n",
        "- we don't need to tell Python what type of value\n",
        "---\n",
        "\n",
        "## **Atribuição de variável**:  \n",
        "Aqui, criamos uma variável chamada `spam_amount` e atribuímos a ela o valor `0` usando o sinal `=`, que é chamado de **operador de atribuição**.\n",
        "\n",
        "**Observação**: Se você já programou em outras linguagens (como Java ou C++), pode estar percebendo algumas coisas que o Python **não exige** que façamos aqui:\n",
        "\n",
        "- não precisamos **declarar** uma variável antes de atribuir um valor a ela  \n",
        "- não precisamos informar ao Python qual é o **tipo** do valor  \n",
        "\n",
        "---\n",
        "\n"
      ],
      "metadata": {
        "id": "HbvMfOVNRFaL"
      }
    },
    {
      "cell_type": "code",
      "execution_count": null,
      "metadata": {
        "id": "rOfnQijAJZyJ"
      },
      "outputs": [],
      "source": [
        "spam_amount = 0"
      ]
    },
    {
      "cell_type": "markdown",
      "source": [
        "## **Function calls**\n",
        "\n",
        "We call functions by putting parentheses after their name, and putting the inputs (or arguments) to the function in those parentheses.\n",
        "\n",
        "Claro! Aqui está a explicação em inglês e português:\n",
        "\n",
        "---\n",
        "\n",
        "## **Chamada de funções**  \n",
        "Chamamos funções colocando parênteses após o nome da função e colocando os **valores de entrada** (ou **argumentos**) dentro desses parênteses."
      ],
      "metadata": {
        "id": "ArFYQQl0RAX-"
      }
    },
    {
      "cell_type": "code",
      "source": [
        "print(spam_amount)\n"
      ],
      "metadata": {
        "colab": {
          "base_uri": "https://localhost:8080/"
        },
        "id": "XNWPZ098Q37P",
        "outputId": "cfa86c64-f438-409b-b9a4-a2d608504958"
      },
      "execution_count": null,
      "outputs": [
        {
          "output_type": "stream",
          "name": "stdout",
          "text": [
            "0\n"
          ]
        }
      ]
    },
    {
      "cell_type": "markdown",
      "source": [
        "## **Comment**\n",
        "\n",
        "**in** Python, comments begin with the # symbol."
      ],
      "metadata": {
        "id": "-FqA2HXlRbCl"
      }
    },
    {
      "cell_type": "code",
      "source": [
        "# Ordering Spam, egg, Spam, Spam, bacon and Spam (4 more servings of Spam)\n",
        "spam_amount = spam_amount + 4"
      ],
      "metadata": {
        "id": "7ygr-HDURo0H"
      },
      "execution_count": null,
      "outputs": []
    },
    {
      "cell_type": "markdown",
      "source": [
        "## **type()**\n",
        "\n",
        " is the second built-in function we've seen (after print()), and it's another good one to remember. It's very useful to be able to ask Python \"what kind of thing is this?\".\n",
        "\n"
      ],
      "metadata": {
        "id": "CJ1fNaYnSZCz"
      }
    },
    {
      "cell_type": "code",
      "source": [
        "type(1)\n",
        "a = type(19.95)\n",
        "b = type(\"aa\")\n",
        "c = type(True)\n",
        "print(a, b, c)"
      ],
      "metadata": {
        "colab": {
          "base_uri": "https://localhost:8080/"
        },
        "id": "zhzyXAO8Sgtg",
        "outputId": "ca9a6369-e9e0-4026-8ce7-3b3cdd996ccb"
      },
      "execution_count": null,
      "outputs": [
        {
          "output_type": "stream",
          "name": "stdout",
          "text": [
            "<class 'float'> <class 'str'> <class 'bool'>\n"
          ]
        }
      ]
    },
    {
      "cell_type": "markdown",
      "source": [
        "| Operator | Name            | Description                                    |\n",
        "|----------|-----------------|------------------------------------------------|\n",
        "| `a + b`  | Addition         | Sum of `a` and `b`                             |\n",
        "| `a - b`  | Subtraction      | Difference of `a` and `b`                      |\n",
        "| `a * b`  | Multiplication   | Product of `a` and `b`                         |\n",
        "| `a / b`  | True division    | Quotient of `a` and `b`                        |\n",
        "| `a // b` | Floor division   | Quotient of `a` and `b`, removing fractional parts |\n",
        "| `a % b`  | Modulus          | Integer remainder after division of `a` by `b`|\n",
        "| `a ** b` | Exponentiation   | `a` raised to the power of `b`                |\n",
        "| `-a`     | Negation         | The negative of `a`                           |\n"
      ],
      "metadata": {
        "id": "gf0KvvfGRxW5"
      }
    },
    {
      "cell_type": "code",
      "source": [
        "print(5 / 2)\n"
      ],
      "metadata": {
        "colab": {
          "base_uri": "https://localhost:8080/"
        },
        "id": "zyIxRe4MS8jE",
        "outputId": "f80b1e3f-4082-4850-d283-949f8039e966"
      },
      "execution_count": null,
      "outputs": [
        {
          "output_type": "stream",
          "name": "stdout",
          "text": [
            "2.5\n"
          ]
        }
      ]
    },
    {
      "cell_type": "markdown",
      "source": [
        "# **Functions and Getting Help**"
      ],
      "metadata": {
        "id": "iaxYefIaYNne"
      }
    },
    {
      "cell_type": "markdown",
      "source": [
        "## **`help()`**  \n",
        "Helps you understand built-in functions in Python.\n",
        "\n",
        "- The header of that function: `round(number, ndigits=None)`. In this case, this tells us that `round()` takes an argument we can describe as `number`. Additionally, we can optionally give a separate argument which could be described as `ndigits`.  \n",
        "- A brief English description of what the function does.\n",
        "\n",
        "---\n",
        "\n",
        "## **`help()`**  \n",
        "Ajuda você a entender funções embutidas (built-in) no Python.\n",
        "\n",
        "- O cabeçalho dessa função: `round(number, ndigits=None)`. Nesse caso, isso nos diz que `round()` recebe um argumento que podemos descrever como `number`. Além disso, podemos opcionalmente fornecer um segundo argumento chamado `ndigits`.  \n",
        "- Uma breve descrição, em inglês, do que a função faz."
      ],
      "metadata": {
        "id": "CuQLnZTbTSSh"
      }
    },
    {
      "cell_type": "code",
      "source": [
        "help(round)"
      ],
      "metadata": {
        "colab": {
          "base_uri": "https://localhost:8080/"
        },
        "id": "Gchptka3Tjy1",
        "outputId": "6daa4a6c-df0c-4ee1-db2c-dd3479a31165"
      },
      "execution_count": null,
      "outputs": [
        {
          "output_type": "stream",
          "name": "stdout",
          "text": [
            "Help on built-in function max in module builtins:\n",
            "\n",
            "max(...)\n",
            "    max(iterable, *[, default=obj, key=func]) -> value\n",
            "    max(arg1, arg2, *args, *[, key=func]) -> value\n",
            "    \n",
            "    With a single iterable argument, return its biggest item. The\n",
            "    default keyword-only argument specifies an object to return if\n",
            "    the provided iterable is empty.\n",
            "    With two or more arguments, return the largest argument.\n",
            "\n"
          ]
        }
      ]
    },
    {
      "cell_type": "markdown",
      "source": [
        "## **Defining functions**  \n",
        "- Functions start with a header introduced by the `def` keyword. The indented block of code following the `:` is run when the function is called.  \n",
        "- `return` is another keyword uniquely associated with functions. When Python encounters a `return` statement, it exits the function immediately, and passes the value on the right-hand side to the calling context.\n",
        "\n",
        "---\n",
        "\n",
        "## **Definindo funções**  \n",
        "- As funções começam com um cabeçalho introduzido pela palavra-chave `def`. O bloco de código indentado que segue os dois pontos `:` é executado quando a função é chamada.  \n",
        "- `return` é outra palavra-chave usada especificamente em funções. Quando o Python encontra uma instrução `return`, ele sai da função imediatamente e retorna o valor que está à direita dessa instrução para o local onde a função foi chamada."
      ],
      "metadata": {
        "id": "5plSMDPmWOJy"
      }
    },
    {
      "cell_type": "code",
      "source": [
        "def least_difference(a, b, c):\n",
        "    diff1 = abs(a - b)\n",
        "    diff2 = abs(b - c)\n",
        "    diff3 = abs(a - c)\n",
        "    return min(diff1, diff2, diff3)\n",
        "\n",
        "print(\n",
        "    least_difference(1, 10, 100),\n",
        "    least_difference(1, 10, 10),\n",
        "    least_difference(5, 6, 7), # Python allows trailing commas in argument lists.\n",
        ")"
      ],
      "metadata": {
        "colab": {
          "base_uri": "https://localhost:8080/"
        },
        "id": "4oHhb7-ZWgNG",
        "outputId": "0b1c12bb-c32a-4d3d-fa7a-ce84156c439e"
      },
      "execution_count": null,
      "outputs": [
        {
          "output_type": "stream",
          "name": "stdout",
          "text": [
            "9 0 1\n"
          ]
        }
      ]
    },
    {
      "cell_type": "markdown",
      "source": [
        "## **Docstrings**  \n",
        "The docstring is a triple-quoted string (which may span multiple lines) that comes immediately after the header of a function. When we call `help()` on a function, it shows the docstring.\n",
        "\n",
        "---\n",
        "\n",
        "## **Docstrings**  \n",
        "A docstring é uma string delimitada por três aspas (que pode abranger múltiplas linhas) e vem imediatamente após o cabeçalho de uma função. Quando chamamos `help()` em uma função, a docstring é exibida."
      ],
      "metadata": {
        "id": "QdF8xV8fWvB7"
      }
    },
    {
      "cell_type": "code",
      "source": [
        "def least_difference(a, b, c):\n",
        "    \"\"\"Return the smallest difference between any two numbers\n",
        "    among a, b and c.\n",
        "\n",
        "    >>> least_difference(1, 5, -5)\n",
        "    4\n",
        "    \"\"\"\n",
        "    diff1 = abs(a - b)\n",
        "    diff2 = abs(b - c)\n",
        "    diff3 = abs(a - c)\n",
        "    return min(diff1, diff2, diff3)\n",
        "\n",
        "help(least_difference)\n"
      ],
      "metadata": {
        "colab": {
          "base_uri": "https://localhost:8080/"
        },
        "id": "wWTC-ndIW-F4",
        "outputId": "c67ce5dc-5118-486d-bd36-28a6cc4d2d06"
      },
      "execution_count": null,
      "outputs": [
        {
          "output_type": "stream",
          "name": "stdout",
          "text": [
            "Help on function least_difference in module __main__:\n",
            "\n",
            "least_difference(a, b, c)\n",
            "    Return the smallest difference between any two numbers\n",
            "    among a, b and c.\n",
            "    \n",
            "    >>> least_difference(1, 5, -5)\n",
            "    4\n",
            "\n"
          ]
        }
      ]
    },
    {
      "cell_type": "markdown",
      "source": [
        "## **Default arguments**  \n",
        "Default arguments are values provided in the function definition that are used if no corresponding argument is supplied during the function call. This means that when you call the function without specifying all the parameters, the default values are automatically used.\n",
        "\n",
        "---\n",
        "\n",
        "## **Argumentos padrão**  \n",
        "Argumentos padrão são valores fornecidos na definição da função que são utilizados caso nenhum argumento correspondente seja passado durante a chamada da função. Isso significa que, ao chamar a função sem especificar todos os parâmetros, os valores padrão serão usados automaticamente."
      ],
      "metadata": {
        "id": "EKez8xX0XT1A"
      }
    },
    {
      "cell_type": "code",
      "source": [
        "def greet(name, greeting=\"Hello\"):\n",
        "    \"\"\"\n",
        "    Returns a greeting message for the given name.\n",
        "\n",
        "    Parameters:\n",
        "    - name: The person's name.\n",
        "    - greeting: The greeting to use. Defaults to \"Hello\".\n",
        "\n",
        "    Returns:\n",
        "    A string with the greeting message.\n",
        "    \"\"\"\n",
        "    return f\"{greeting}, {name}!\"\n",
        "\n",
        "# Calling the function using the default greeting\n",
        "print(greet(\"Alice\"))      # Output: Hello, Alice!\n",
        "\n",
        "# Calling the function with a custom greeting\n",
        "print(greet(\"Alice\", \"Hi\"))  # Output: Hi, Alice!\n"
      ],
      "metadata": {
        "colab": {
          "base_uri": "https://localhost:8080/"
        },
        "id": "PXAm2EwJYE1o",
        "outputId": "1bea5aba-d97c-4094-c959-9b3ef251f710"
      },
      "execution_count": null,
      "outputs": [
        {
          "output_type": "stream",
          "name": "stdout",
          "text": [
            "Hello, Alice!\n",
            "Hi, Alice!\n"
          ]
        }
      ]
    },
    {
      "cell_type": "markdown",
      "source": [
        "# **Booleans and Conditionals**\n",
        "\n",
        "## **Booleans**\n",
        "\n",
        "\n",
        "Python has a type of variable called bool. It has two possible values: True and False.\n",
        "\n"
      ],
      "metadata": {
        "id": "jLM6-dYKjUNH"
      }
    },
    {
      "cell_type": "code",
      "source": [
        "x = True\n",
        "print(x)\n",
        "print(type(x))"
      ],
      "metadata": {
        "id": "fTCuZZpAjdKQ"
      },
      "execution_count": null,
      "outputs": []
    },
    {
      "cell_type": "markdown",
      "source": [
        "| Operation | Description               | Operation | Description                   |\n",
        "|-----------|---------------------------|-----------|-------------------------------|\n",
        "| `a == b`  | a equal to b              | `a != b`  | a not equal to b              |\n",
        "| `a < b`   | a less than b             | `a > b`   | a greater than b              |\n",
        "| `a <= b`  | a less than or equal to b | `a >= b`  | a greater than or equal to b  |\n"
      ],
      "metadata": {
        "id": "ZPsIkYVfjiCM"
      }
    },
    {
      "cell_type": "code",
      "source": [
        "3.0 == 3\n"
      ],
      "metadata": {
        "colab": {
          "base_uri": "https://localhost:8080/"
        },
        "id": "k7rEmE88jmVa",
        "outputId": "73289c3b-c4c6-4dfd-a63a-ff8af904c020"
      },
      "execution_count": 16,
      "outputs": [
        {
          "output_type": "execute_result",
          "data": {
            "text/plain": [
              "True"
            ]
          },
          "metadata": {},
          "execution_count": 16
        }
      ]
    },
    {
      "cell_type": "markdown",
      "source": [
        "## **Combining Boolean Values**\n",
        "\n",
        "You can combine boolean values using the standard concepts of \"and\", \"or\", and \"not\". In fact, the words to do this are: and, or, and not.\n",
        "\n",
        "With these, we can make our can_run_for_president function more accurate."
      ],
      "metadata": {
        "id": "ZqMC_isxjwlc"
      }
    },
    {
      "cell_type": "code",
      "source": [
        "def can_run_for_president(age, is_natural_born_citizen):\n",
        "    \"\"\"Can someone of the given age and citizenship status run for president in the US?\"\"\"\n",
        "    # The US Constitution says you must be a natural born citizen *and* at least 35 years old\n",
        "    return is_natural_born_citizen and (age >= 35)\n",
        "\n",
        "print(can_run_for_president(19, True))\n",
        "print(can_run_for_president(55, False))\n",
        "print(can_run_for_president(55, True))"
      ],
      "metadata": {
        "colab": {
          "base_uri": "https://localhost:8080/"
        },
        "id": "_nRLzHg0jsxv",
        "outputId": "d3d87c3b-0421-4ac3-9637-3c5f37168f0c"
      },
      "execution_count": 17,
      "outputs": [
        {
          "output_type": "stream",
          "name": "stdout",
          "text": [
            "False\n",
            "False\n",
            "True\n"
          ]
        }
      ]
    },
    {
      "cell_type": "markdown",
      "source": [
        "## **Conditionals**\n",
        "\n",
        "Booleans are most useful when combined with conditional statements, using the keywords if, elif, and else.\n",
        "\n",
        "Conditional statements, often referred to as if-then statements, let you control what pieces of code are run based on the value of some Boolean condition. Here's an example:"
      ],
      "metadata": {
        "id": "IXsl04Muj81s"
      }
    },
    {
      "cell_type": "code",
      "source": [
        "def inspect(x):\n",
        "    if x == 0:\n",
        "        print(x, \"is zero\")\n",
        "    elif x > 0:\n",
        "        print(x, \"is positive\")\n",
        "    elif x < 0:\n",
        "        print(x, \"is negative\")\n",
        "    else:\n",
        "        print(x, \"is unlike anything I've ever seen...\")\n",
        "\n",
        "inspect(0)\n",
        "inspect(-15)"
      ],
      "metadata": {
        "colab": {
          "base_uri": "https://localhost:8080/"
        },
        "id": "2Mvd5cuUkDBa",
        "outputId": "be4d1377-834a-47d4-b5b5-0a7986e0a316"
      },
      "execution_count": 18,
      "outputs": [
        {
          "output_type": "stream",
          "name": "stdout",
          "text": [
            "0 is zero\n",
            "-15 is negative\n"
          ]
        }
      ]
    },
    {
      "cell_type": "markdown",
      "source": [
        "## **Loops**\n",
        "\n",
        "Loops are a way to repeatedly execute some code. Here's an example:\n",
        "\n",
        "The for loop specifies\n",
        "\n",
        "the variable name to use (in this case, planet)\n",
        "the set of values to loop over (in this case, planets)\n",
        "You use the word \"in\" to link them together.\n",
        "\n",
        "The object to the right of the \"in\" can be any object that supports iteration. Basically, if it can be thought of as a group of things, you can probably loop over it. In addition to lists, we can iterate over the elements of a tuple:"
      ],
      "metadata": {
        "id": "YP74p-imkOGc"
      }
    },
    {
      "cell_type": "code",
      "source": [
        "planets = ['Mercury', 'Venus', 'Earth', 'Mars', 'Jupiter', 'Saturn', 'Uranus', 'Neptune']\n",
        "for planet in planets:\n",
        "    print(planet, end=' ') # print all on same line"
      ],
      "metadata": {
        "colab": {
          "base_uri": "https://localhost:8080/"
        },
        "id": "BIoF3ESQkVZI",
        "outputId": "7ec9cf26-3075-40dd-85a8-d74f489207f6"
      },
      "execution_count": 19,
      "outputs": [
        {
          "output_type": "stream",
          "name": "stdout",
          "text": [
            "Mercury Venus Earth Mars Jupiter Saturn Uranus Neptune "
          ]
        }
      ]
    },
    {
      "cell_type": "markdown",
      "source": [
        "## **range()**\n",
        "\n",
        "range() is a function that returns a sequence of numbers. It turns out to be very useful for writing loops.\n",
        "\n",
        "For example, if we want to repeat some action 5 times:"
      ],
      "metadata": {
        "id": "UZ8qPgtnka4o"
      }
    },
    {
      "cell_type": "code",
      "source": [
        "for i in range(5):\n",
        "    print(\"Doing important work. i =\", i)"
      ],
      "metadata": {
        "colab": {
          "base_uri": "https://localhost:8080/"
        },
        "id": "M0_VJ-sHkaLK",
        "outputId": "8d4ba2fb-fe47-4a7c-d0d6-3bf709ece925"
      },
      "execution_count": 20,
      "outputs": [
        {
          "output_type": "stream",
          "name": "stdout",
          "text": [
            "Doing important work. i = 0\n",
            "Doing important work. i = 1\n",
            "Doing important work. i = 2\n",
            "Doing important work. i = 3\n",
            "Doing important work. i = 4\n"
          ]
        }
      ]
    },
    {
      "cell_type": "markdown",
      "source": [
        "## while loops¶\n",
        "\n",
        "The other type of loop in Python is a while loop, which iterates until some condition is met:\n",
        "\n"
      ],
      "metadata": {
        "id": "ccJqHr1Ckhl7"
      }
    },
    {
      "cell_type": "code",
      "source": [
        "i = 0\n",
        "while i < 10:\n",
        "    print(i, end=' ')\n",
        "    i += 1 # increase the value of i by 1"
      ],
      "metadata": {
        "id": "Bz_AjjADkkJ0"
      },
      "execution_count": null,
      "outputs": []
    },
    {
      "cell_type": "markdown",
      "source": [
        "## For Loop with Enumerate\n"
      ],
      "metadata": {
        "id": "Bb7Ltf9oljyy"
      }
    },
    {
      "cell_type": "code",
      "source": [
        "# Getting both index and value\n",
        "fruits = [\"apple\", \"banana\", \"cherry\"]\n",
        "for index, fruit in enumerate(fruits):\n",
        "    print(f\"Index {index}: {fruit}\")"
      ],
      "metadata": {
        "colab": {
          "base_uri": "https://localhost:8080/"
        },
        "id": "TTczPxYvlmh1",
        "outputId": "e0eb9f11-d1c5-4283-91cb-64b78ef2aaa7"
      },
      "execution_count": 21,
      "outputs": [
        {
          "output_type": "stream",
          "name": "stdout",
          "text": [
            "Index 0: apple\n",
            "Index 1: banana\n",
            "Index 2: cherry\n"
          ]
        }
      ]
    }
  ]
}